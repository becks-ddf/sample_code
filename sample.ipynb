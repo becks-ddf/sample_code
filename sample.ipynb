{
  "nbformat": 4,
  "nbformat_minor": 0,
  "metadata": {
    "colab": {
      "name": "sample.ipynb",
      "provenance": [],
      "collapsed_sections": [],
      "toc_visible": true
    },
    "kernelspec": {
      "name": "python3",
      "display_name": "Python 3"
    }
  },
  "cells": [
    {
      "cell_type": "code",
      "metadata": {
        "id": "mwdCs6m23Z_0",
        "colab": {
          "base_uri": "https://localhost:8080/",
          "height": 351
        },
        "outputId": "34e4fac5-bef3-49c2-a926-3a0d5d09b0cd"
      },
      "source": [
        "import torch\n",
        "import matplotlib.pyplot as plt\n",
        "import matplotlib\n",
        "matplotlib.rcParams['figure.figsize'] = (13.0, 5.0)\n",
        "\n",
        "class RegressionNet(torch.nn.Module):\n",
        "     def __init__(self, n_hidden_neurons):\n",
        "        super().__init__()\n",
        "        self.fc1 = torch.nn.Linear(1, n_hidden_neurons)\n",
        "        self.act1 = torch.nn.Tanh()\n",
        "        self.fc2 = torch.nn.Linear(n_hidden_neurons, n_hidden_neurons)\n",
        "        self.act2 = torch.nn.Tanh()\n",
        "        self.fc3 = torch.nn.Linear(n_hidden_neurons, 1)\n",
        "     \n",
        "     def forward(self, x):\n",
        "        x = self.fc1(x)\n",
        "        x = self.act1(x)\n",
        "        x = self.fc2(x)\n",
        "        x = self.act2(x)\n",
        "        x = self.fc3(x)\n",
        "        return x\n",
        "\n",
        "net = RegressionNet(10)\n",
        "\n",
        "def target_function(x):\n",
        "    return 2**x * torch.sin(2**-x)\n",
        "\n",
        "# ------Dataset preparation start--------:\n",
        "x_train =  torch.linspace(-10, 5, 100)\n",
        "y_train = target_function(x_train)\n",
        "noise = torch.randn(y_train.shape) / 20.\n",
        "y_train = y_train + noise\n",
        "x_train.unsqueeze_(1)\n",
        "y_train.unsqueeze_(1)\n",
        "\n",
        "x_validation = torch.linspace(-10, 5, 100)\n",
        "y_validation = target_function(x_validation)\n",
        "x_validation.unsqueeze_(1)\n",
        "y_validation.unsqueeze_(1)\n",
        "# ------Dataset preparation end--------:\n",
        "\n",
        "def predict(net, x, y):\n",
        "    y_pred = net.forward(x)\n",
        "\n",
        "    plt.plot(x.numpy(), y.numpy(), 'o', label='Groud truth')\n",
        "    plt.plot(x.numpy(), y_pred.data.numpy(), 'o', c='r', label='Prediction');\n",
        "    plt.legend(loc='upper left')\n",
        "    plt.xlabel('$x$')\n",
        "    plt.ylabel('$y$')\n",
        "    \n",
        "def metric(pred, target):\n",
        "    return (pred - target).abs().mean()\n",
        "\n",
        "optimizer = torch.optim.Adam(net.parameters(), lr=0.1)\n",
        "\n",
        "def loss(pred, target):\n",
        "    squares = (pred - target) ** 2\n",
        "    return squares.mean()\n",
        "\n",
        "for epoch_index in range(1000):\n",
        "    optimizer.zero_grad()\n",
        "\n",
        "    y_pred = net.forward(x_train)\n",
        "    loss_value = loss(y_pred, y_train)\n",
        "    loss_value.backward()\n",
        "    optimizer.step()\n",
        "\n",
        "print(metric(net.forward(x_validation), y_validation).item())\n",
        "\n",
        "predict(net, x_validation, y_validation)"
      ],
      "execution_count": null,
      "outputs": [
        {
          "output_type": "stream",
          "name": "stdout",
          "text": [
            "0.01562473550438881\n"
          ]
        },
        {
          "output_type": "display_data",
          "data": {
            "image/png": "[encoded data removed]",
            "text/plain": [
              "<Figure size 936x360 with 1 Axes>"
            ]
          },
          "metadata": {
            "needs_background": "light"
          }
        }
      ]
    },
    {
      "cell_type": "code",
      "metadata": {
        "id": "Tlh-5ZVDAtmI",
        "colab": {
          "base_uri": "https://localhost:8080/"
        },
        "outputId": "eb409acb-ed7e-445b-ac65-33e088f59311"
      },
      "source": [
        "m = torch.nn.Tanh()\n",
        "input = torch.Tensor([1.,0.])\n",
        "output = m(input)\n",
        "print(input)\n",
        "print(output)"
      ],
      "execution_count": null,
      "outputs": [
        {
          "output_type": "stream",
          "name": "stdout",
          "text": [
            "tensor([1., 0.])\n",
            "tensor([0.7616, 0.0000])\n"
          ]
        }
      ]
    },
    {
      "cell_type": "code",
      "metadata": {
        "id": "cu1cn25ECl3e"
      },
      "source": [
        ""
      ],
      "execution_count": null,
      "outputs": []
    }
  ]
}